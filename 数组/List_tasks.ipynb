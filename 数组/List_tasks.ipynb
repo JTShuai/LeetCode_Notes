{
 "metadata": {
  "language_info": {
   "codemirror_mode": {
    "name": "ipython",
    "version": 3
   },
   "file_extension": ".py",
   "mimetype": "text/x-python",
   "name": "python",
   "nbconvert_exporter": "python",
   "pygments_lexer": "ipython3",
   "version": 3
  },
  "orig_nbformat": 2,
  "kernelspec": {
   "name": "pycharm-d48104c7",
   "language": "python",
   "display_name": "PyCharm (LeetCode_Notes)"
  }
 },
 "nbformat": 4,
 "nbformat_minor": 2,
 "cells": [
  {
   "source": [
    "# 两数之和 题号：1\n",
    "给定一个整数数组 nums 和一个整数目标值 target，请你在该数组中找出 和为目标值 的那 两个 整数，并返回它们的数组下标。\n",
    "\n"
   ],
   "cell_type": "markdown",
   "metadata": {}
  },
  {
   "cell_type": "code",
   "execution_count": null,
   "metadata": {},
   "outputs": [],
   "source": [
    "# 初解\n",
    "\n",
    "class Solution:\n",
    "    def twoSum(self, nums: List[int], target: int) -> List[int]:\n",
    "        l = len(nums)\n",
    "        \n",
    "        for i in range(l):\n",
    "            diff = target - nums[i]\n",
    "\n",
    "            pre = nums[:i]\n",
    "            rest = nums[i+1:]\n",
    "\n",
    "            if diff in pre:\n",
    "                j = pre.index(diff)\n",
    "                res = [i,j]\n",
    "                break\n",
    "\n",
    "            elif diff in rest:\n",
    "                j = rest.index(diff) + i +1\n",
    "                res = [i,j]\n",
    "                break\n",
    "        \n",
    "        return res\n",
    "\n",
    "'''\n",
    "可提升的点：\n",
    "1. 不需要在pre中搜索diff，因为pre中的数字其实已经和当前数字进行过比较了。（即，当前的数字是在之前数字对应的rest中）\n",
    "\n",
    "2. 不需要单独创建一个新列表来存储剩余的数字（不需要创建rest）。\n",
    "\n",
    "此时解改进为:\n",
    "l = len(nums)\n",
    "for i in range(l):\n",
    "    for j in range(i+1,l): # rest\n",
    "        if nums[i]+nums[j] == target:\n",
    "            return [i,j]\n",
    "return [] # 如果不存在，就返回空列表\n",
    "'''"
   ]
  },
  {
   "cell_type": "code",
   "execution_count": null,
   "metadata": {},
   "outputs": [],
   "source": [
    "'''\n",
    "另一种更好的解法是利用哈希表：\n",
    "创建一个哈希表，对于每一个 x，我们首先查询哈希表中是否存在 target - x，然后将 x 插入到哈希表中，即可保证不会让 x 和自己匹配。\n",
    "'''\n",
    "# use hashtable\n",
    "\n",
    "class Solution:\n",
    "    def twoSum(self, nums: List[int], target: int) -> List[int]:\n",
    "        hashtable = dict()\n",
    "        for i, num in enumerate(nums):\n",
    "            if target - num in hashtable:\n",
    "                return [hashtable[target - num], i]\n",
    "            hashtable[nums[i]] = i\n",
    "        return []"
   ]
  },
  {
   "cell_type": "markdown",
   "source": [
    "# 下一个排列 题号:31\n",
    "给一数组，寻找下一个更大的数\n",
    "\n",
    "## 算法过程\n",
    "- 1. 数组从后向前两两比较大小，当找到右边 $j$ 的数字大于左边$i$的数字时，得到 $(i,j)$ ，并进入下一步判断\n",
    "- 2. 判断 j 的右边有没有比 i 更大的数字，如果有 $k$，则找到了需要调换的两个数字，如果没有，则调换 i 与 j\n",
    "- 3. 调换完成后，需要将从 $j$ 开始的后面所有数字变为升序排列"
   ],
   "metadata": {
    "collapsed": false
   }
  },
  {
   "cell_type": "code",
   "execution_count": null,
   "outputs": [],
   "source": [
    "class Solution:\n",
    "    def nextPermutation(self, nums: List[int]) -> None:\n",
    "        \"\"\"\n",
    "        Do not return anything, modify nums in-place instead.\n",
    "        答题思路：从后往前寻找第一个升序对(i,j)即nums[i]<nums[j] 再从后往前找第一个大于nums[i]的数即为大数，交换着两个元素即将大数换到前面，然后将大数后面的部分倒序\n",
    "        \"\"\"\n",
    "        n = len(nums)\n",
    "        if n<2: return nums\n",
    "\n",
    "        i = n-1\n",
    "\n",
    "        # 要是前者大于等于后者 则不是要调整的目标 继续前移！第一遍出错就是这儿没有等于\n",
    "        while i>0 and nums[i-1]>=nums[i]:\n",
    "            i -= 1\n",
    "        '''\n",
    "        出while循坏有两种可能:\n",
    "            1.数组便利完了(i=0);\n",
    "            2.找到了nums[i-1] < nums[i] 的元素对\n",
    "        因此下面要判队当前停止是哪一种情况\n",
    "        '''\n",
    "        if i == 0:\n",
    "            # 此数为最大数（之前写的 i==0 and nums[i]==max(nums)，判断冗余，现删除）\n",
    "            return nums.reverse()\n",
    "        else:\n",
    "            # 找到了第一个元素对，现在搜索i右边有没有比i-1要大的数字\n",
    "            j = n-1\n",
    "\n",
    "            while j>i-1 and nums[j]<=nums[i-1]:\n",
    "                j -= 1\n",
    "\n",
    "            # 如果i的右边没有大数了，则j=i\n",
    "\n",
    "            nums[i-1], nums[j] = nums[j], nums[i-1]\n",
    "\n",
    "            # 因为从i开始的数组一定是降序排列的，因此这里改为升序直接从中间开始\n",
    "            for k in range((n-i) // 2):\n",
    "                nums[i+k], nums[n-1-k] = nums[n-1-k], nums[i+k]"
   ],
   "metadata": {
    "collapsed": false,
    "pycharm": {
     "name": "#%%\n"
    }
   }
  }
 ]
}