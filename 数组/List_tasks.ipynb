{
 "metadata": {
  "language_info": {
   "codemirror_mode": {
    "name": "ipython",
    "version": 3
   },
   "file_extension": ".py",
   "mimetype": "text/x-python",
   "name": "python",
   "nbconvert_exporter": "python",
   "pygments_lexer": "ipython3",
   "version": 3
  },
  "orig_nbformat": 2
 },
 "nbformat": 4,
 "nbformat_minor": 2,
 "cells": [
  {
   "source": [
    "# 两数之和 题号：1\n",
    "给定一个整数数组 nums 和一个整数目标值 target，请你在该数组中找出 和为目标值 的那 两个 整数，并返回它们的数组下标。\n",
    "\n"
   ],
   "cell_type": "markdown",
   "metadata": {}
  },
  {
   "cell_type": "code",
   "execution_count": null,
   "metadata": {},
   "outputs": [],
   "source": [
    "# 初解\n",
    "\n",
    "class Solution:\n",
    "    def twoSum(self, nums: List[int], target: int) -> List[int]:\n",
    "        l = len(nums)\n",
    "        \n",
    "        for i in range(l):\n",
    "            diff = target - nums[i]\n",
    "\n",
    "            pre = nums[:i]\n",
    "            rest = nums[i+1:]\n",
    "\n",
    "            if diff in pre:\n",
    "                j = pre.index(diff)\n",
    "                res = [i,j]\n",
    "                break\n",
    "\n",
    "            elif diff in rest:\n",
    "                j = rest.index(diff) + i +1\n",
    "                res = [i,j]\n",
    "                break\n",
    "        \n",
    "        return res\n",
    "\n",
    "'''\n",
    "可提升的点：\n",
    "1. 不需要在pre中搜索diff，因为pre中的数字其实已经和当前数字进行过比较了。（即，当前的数字是在之前数字对应的rest中）\n",
    "\n",
    "2. 不需要单独创建一个新列表来存储剩余的数字（不需要创建rest）。\n",
    "\n",
    "此时解改进为:\n",
    "l = len(nums)\n",
    "for i in range(l):\n",
    "    for j in range(i+1,l): # rest\n",
    "        if nums[i]+nums[j] == target:\n",
    "            return [i,j]\n",
    "return [] # 如果不存在，就返回空列表\n",
    "'''"
   ]
  },
  {
   "cell_type": "code",
   "execution_count": null,
   "metadata": {},
   "outputs": [],
   "source": [
    "'''\n",
    "另一种更好的解法是利用哈希表：\n",
    "创建一个哈希表，对于每一个 x，我们首先查询哈希表中是否存在 target - x，然后将 x 插入到哈希表中，即可保证不会让 x 和自己匹配。\n",
    "'''\n",
    "# use hashtable\n",
    "\n",
    "class Solution:\n",
    "    def twoSum(self, nums: List[int], target: int) -> List[int]:\n",
    "        hashtable = dict()\n",
    "        for i, num in enumerate(nums):\n",
    "            if target - num in hashtable:\n",
    "                return [hashtable[target - num], i]\n",
    "            hashtable[nums[i]] = i\n",
    "        return []"
   ]
  }
 ]
}