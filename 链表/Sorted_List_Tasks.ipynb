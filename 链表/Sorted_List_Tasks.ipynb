{
 "metadata": {
  "language_info": {
   "codemirror_mode": {
    "name": "ipython",
    "version": 3
   },
   "file_extension": ".py",
   "mimetype": "text/x-python",
   "name": "python",
   "nbconvert_exporter": "python",
   "pygments_lexer": "ipython3",
   "version": "3.6.10-final"
  },
  "orig_nbformat": 2,
  "kernelspec": {
   "name": "python3",
   "display_name": "Python 3.6.10 64-bit",
   "metadata": {
    "interpreter": {
     "hash": "0bc69e89c06116a7037e7b4b32ecb5dd79436626408dc4077844e1b7d060902d"
    }
   }
  }
 },
 "nbformat": 4,
 "nbformat_minor": 2,
 "cells": [
  {
   "source": [
    "# 按升序排列的链表，删除重复数字的节点\n",
    "题目最后的提示中，第一条说明链表的节点数可能为零。\n",
    "\n",
    "这道题与 删除排序链表中的重复元素 不同，第 题删除重复元素但会保留一个元素，而本题中是要将重复的元素都删除，那么这里可能会出现头节点在遍历过程中被删除。因此需要一个哑节点 dummy，指向链表头部head。\n",
    "\n",
    "具体做法(迭代):\n",
    "- 因为节点可能为空，当节点为空时或者链表只有一个节点时，返回head\n",
    "- 声明哑节点dummy,指向链表头节点\n",
    "- 声明pre,初始指向dummy\n",
    "- 声明cur，初始指向head\n",
    "- 开始遍历，如果cur与cur.next对应的值相等，做删除操作\n",
    "    - 循环删除与cur对应节点值相同的节点，直到cur.next为空或者值不再相同时，让pre.next指向cur.next\n",
    "- 如果cur与cur.next对应的值不相等:\n",
    "    - 此时不存在重复元素，那么让pre指向cur（pre向前移动一格）\n",
    "- 最后，令cur指向cur.next（同上，cur向前移动一格），继续上述判断。\n",
    "- 遍历结束后，返回dummy的下一个节点(dummy.next)，这也就是不带重复的表链的开头。（只需返回这一个节点，因为剩下的节点可以基于该节点通过next来访问）\n",
    "\n",
    " \n"
   ],
   "cell_type": "markdown",
   "metadata": {}
  },
  {
   "cell_type": "code",
   "execution_count": null,
   "metadata": {},
   "outputs": [],
   "source": [
    "# Definition for singly-linked list.\n",
    "# class ListNode:\n",
    "#     def __init__(self, val=0, next=None):\n",
    "#         self.val = val\n",
    "#         self.next = next\n",
    "\n",
    "\n",
    "class Solution:\n",
    "    def deleteDuplicates(self, head: ListNode) -> ListNode:\n",
    "        if not head or not head.next:\n",
    "            return head\n",
    "        \n",
    "        # set dummy, pre, cur\n",
    "        dummy = ListNode(0, head)\n",
    "        pre = dummy\n",
    "        cur = head # cur = dummy.next\n",
    "\n",
    "        while cur and cur.next: # 当还没到链表最末位时\n",
    "            if cur.val == cur.next.val: # 当存在重复值时，执行删除(cur.next = cur.next.next，这里的删除其实是通过直接将当前节点链接到下下个节点来实现的)\n",
    "                rep_val = cur.val\n",
    "                while cur.next and cur.next.val == rep_val:\n",
    "                    cur.next = cur.next.next # \"skip\" is equal to \"delete\"\n",
    "                \n",
    "                # 最后，令pre.next指向cur.next (当存在重复值时，pre的节点不变，只是链接改变，这样就把重复的cur也给删除了)\n",
    "                pre.next = cur.next\n",
    "            else:\n",
    "                pre = cur\n",
    "            \n",
    "            cur = cur.next\n",
    "        \n",
    "        return dummy.next\n",
    "\n",
    "\n",
    "\n",
    "\n",
    "\n",
    "        '''\n",
    "        官方解法\n",
    "        if not head:\n",
    "            return head\n",
    "        \n",
    "        dummy = ListNode(0, head) # 创造一个哑节点，该伪节点值为0，指向head\n",
    "\n",
    "        cur = dummy \n",
    "        while cur.next and cur.next.next:\n",
    "            if cur.next.val == cur.next.next.val:\n",
    "                x = cur.next.val\n",
    "                while cur.next and cur.next.val == x:\n",
    "                    cur.next = cur.next.next\n",
    "            else:\n",
    "                cur = cur.next\n",
    "\n",
    "        return dummy.next\n",
    "        '''\n"
   ]
  }
 ]
}