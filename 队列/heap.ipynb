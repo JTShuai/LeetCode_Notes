{
 "cells": [
  {
   "cell_type": "markdown",
   "metadata": {
    "collapsed": true,
    "pycharm": {
     "name": "#%% md\n"
    }
   },
   "source": [
    "# 天际线问题， 题号: 218\n"
   ]
  },
  {
   "cell_type": "code",
   "execution_count": null,
   "outputs": [],
   "source": [
    "import heapq\n",
    "from typing import List\n",
    "\n",
    "class Solution:\n",
    "    def getSkyline(self, buildings: List[List[int]]) -> List[List[int]]:\n",
    "        \"\"\"顺序扫描优化\"\"\"\n",
    "        # 初始化队列 s\n",
    "        s = []\n",
    "        ans = []\n",
    "        cur = 0\n",
    "\n",
    "        for left, right, height in buildings:\n",
    "\n",
    "            while s and s[0][1] < left:\n",
    "                '''\n",
    "                heapq.heappop(heap):\n",
    "                Pop and return the smallest item from the heap, maintaining the heap invariant.\n",
    "                If the heap is empty, IndexError is raised. To access the smallest item without popping it, use heap[0].\n",
    "                '''\n",
    "                rh, r = heapq.heappop(s)\n",
    "                if r >= cur:\n",
    "                    if not s or rh != s[0][0]:\n",
    "                        while s and r > s[0][1]:\n",
    "                            heapq.heappop(s)\n",
    "                        rh = -s[0][0] if s else 0\n",
    "                        # 避免右端点重复\n",
    "                        if r == ans[-1][0]:\n",
    "                            ans[-1][1] = min(ans[-1][1], rh)\n",
    "                        else:\n",
    "                            ans.append([r, rh])\n",
    "                    cur = r\n",
    "            if not s or height > -s[0][0]:\n",
    "                # 避免左端点重复的问题\n",
    "                if ans and left == ans[-1][0]:\n",
    "                    ans[-1][1] = height\n",
    "                else:\n",
    "                    ans.append([left, height])\n",
    "            heapq.heappush(s, [-height, right])\n",
    "        while s:\n",
    "            rh, r = heapq.heappop(s)\n",
    "            if r >= cur:\n",
    "                if not s or rh != s[0][0]:\n",
    "                    while s and r > s[0][1]:\n",
    "                        heapq.heappop(s)\n",
    "                    rh = -s[0][0] if s else 0\n",
    "                    # 避免右端点重复\n",
    "                    if r == ans[-1][0]:\n",
    "                        ans[-1][1] = min(ans[-1][1], rh)\n",
    "                    else:\n",
    "                        ans.append([r, rh])\n",
    "                cur = r\n",
    "        return ans\n",
    "\n"
   ],
   "metadata": {
    "collapsed": false,
    "pycharm": {
     "name": "#%%\n"
    }
   }
  },
  {
   "cell_type": "markdown",
   "source": [],
   "metadata": {
    "collapsed": false
   }
  },
  {
   "cell_type": "code",
   "execution_count": 4,
   "outputs": [
    {
     "name": "stdout",
     "output_type": "stream",
     "text": [
      "False\n"
     ]
    }
   ],
   "source": [
    "print(not True or False)\n"
   ],
   "metadata": {
    "collapsed": false,
    "pycharm": {
     "name": "#%%\n"
    }
   }
  }
 ],
 "metadata": {
  "kernelspec": {
   "display_name": "Python 3",
   "language": "python",
   "name": "python3"
  },
  "language_info": {
   "codemirror_mode": {
    "name": "ipython",
    "version": 2
   },
   "file_extension": ".py",
   "mimetype": "text/x-python",
   "name": "python",
   "nbconvert_exporter": "python",
   "pygments_lexer": "ipython2",
   "version": "2.7.6"
  }
 },
 "nbformat": 4,
 "nbformat_minor": 0
}